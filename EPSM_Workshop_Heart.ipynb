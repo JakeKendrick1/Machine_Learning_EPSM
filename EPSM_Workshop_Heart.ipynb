{
  "nbformat": 4,
  "nbformat_minor": 0,
  "metadata": {
    "colab": {
      "provenance": [],
      "collapsed_sections": [
        "r-mNdbmxiP1C",
        "YUeRIK3nufjp",
        "kDuFs6i9i1Zx"
      ],
      "toc_visible": true,
      "include_colab_link": true
    },
    "kernelspec": {
      "name": "python3",
      "display_name": "Python 3"
    },
    "language_info": {
      "name": "python"
    }
  },
  "cells": [
    {
      "cell_type": "markdown",
      "metadata": {
        "id": "view-in-github",
        "colab_type": "text"
      },
      "source": [
        "<a href=\"https://colab.research.google.com/github/JakeKendrick1/Machine_Learning_EPSM/blob/main/EPSM_Workshop_Heart.ipynb\" target=\"_parent\"><img src=\"https://colab.research.google.com/assets/colab-badge.svg\" alt=\"Open In Colab\"/></a>"
      ]
    },
    {
      "cell_type": "markdown",
      "source": [
        "# EPSM Machine Learning Workshop\n",
        "\n",
        "Contacts:\n",
        "* Jake Kendrick: jake.kendrick@research.uwa.edu.au\n",
        "* Brani Rusanov: branimir.rusanov@research.uwa.edu.au\n",
        "\n",
        "Welcome to the first part of the EPSM Workshop. Today, we'll be taking you through a worked example of applying machine learning techniques for predictive modelling on a tabular dataset comprised of clinical variables. The structure of this session will proceed as follows: \n",
        "* Basics of Python\n",
        "* Dataset Exploration\n",
        "* Model Training and Evaluation\n",
        "\n",
        "In this first session, we will not be assuming much prior knowledge when it comes to utilising Python for training and testing Machine Learning (ML) models, so this will largely be a guided session where we keep things relatively simple. If you are already above the beginner level when it comes to ML model development, don't worry, as we progress to the later sessions we will be covering more advanced concepts. The goal is that hopefully everyone in the room, regardless of current knowledge or expertise levels, will get something out of this day. "
      ],
      "metadata": {
        "id": "XvCxdcO2tW1M"
      }
    },
    {
      "cell_type": "markdown",
      "source": [
        "## Python Basics\n",
        "\n",
        "Imports: 3rd party libraries can be downloaded and utilized. These packages include pre-defined functions we can call on which are useful for our particular project, so that we need not re-invent the wheel."
      ],
      "metadata": {
        "id": "gqPCxpRt3dmN"
      }
    },
    {
      "cell_type": "code",
      "execution_count": null,
      "metadata": {
        "id": "mnat26mz3x8N"
      },
      "outputs": [],
      "source": [
        "import pandas as pd #tabular data manipulation package\n",
        "import numpy as np #array and number manipulation package\n",
        "import sklearn #comprehensive machine learning framework package"
      ]
    },
    {
      "cell_type": "code",
      "source": [
        "#Basic python operations (add etc)\n",
        "4 + 4"
      ],
      "metadata": {
        "id": "vqgBucNsjdbA"
      },
      "execution_count": null,
      "outputs": []
    },
    {
      "cell_type": "markdown",
      "source": [
        "In Python, you can define custom functions to perform task specific operations. The proper way to define a basic subtraction function is as follows:"
      ],
      "metadata": {
        "id": "p3I_3uu22330"
      }
    },
    {
      "cell_type": "code",
      "source": [
        "def subtraction(x,y):\n",
        "  return x-y"
      ],
      "metadata": {
        "id": "R2-5MTHQ38vn"
      },
      "execution_count": null,
      "outputs": []
    },
    {
      "cell_type": "code",
      "source": [
        "result = subtraction(5,2)\n",
        "print(result)"
      ],
      "metadata": {
        "id": "vS6Gd0XK4DEz"
      },
      "execution_count": null,
      "outputs": []
    },
    {
      "cell_type": "markdown",
      "source": [
        "In Python, there are a number of different data types that specify what operations we can perform on different variables. Three of the most common data types that you'll encounter in python are strings, integers, and floats. "
      ],
      "metadata": {
        "id": "oveF3ke00ERT"
      }
    },
    {
      "cell_type": "code",
      "source": [
        "# String example\n",
        "string = 'This is a string'\n",
        "\n",
        "# Integer example\n",
        "integer_value = 2002\n",
        "\n",
        "# Float example \n",
        "float_value = 6.75"
      ],
      "metadata": {
        "id": "ArN-Ckl11W-X"
      },
      "execution_count": null,
      "outputs": []
    },
    {
      "cell_type": "markdown",
      "source": [
        "We can also store data in various different data containers that we can perform useful operations on. One of the most common examples of a data container is called a list, instantiated with square brackets [ ] "
      ],
      "metadata": {
        "id": "jDXwN5fv3Gdh"
      }
    },
    {
      "cell_type": "code",
      "source": [
        "python_list = [1,2,3]\n",
        "print(python_list)"
      ],
      "metadata": {
        "id": "XCqNaSRu4KiJ"
      },
      "execution_count": null,
      "outputs": []
    },
    {
      "cell_type": "markdown",
      "source": [
        "We can then use this list and convert it into a number of other useful data containers using the packages that we imported above. \n",
        "\n",
        "* Numpy arrays allow us to perform a huge number of mathematical array operations on our data. Almost every data science project will make use of numpy in some way. \n",
        "\n",
        "* Pandas dataframes make analysis of tabular data very easy and intuitive using their library of functions. This will be the primary data container we will be using as we proceed with the machine learning analysis.\n",
        "\n"
      ],
      "metadata": {
        "id": "J5xUwXVm4OBX"
      }
    },
    {
      "cell_type": "code",
      "source": [
        "#Convert our list into numpy array\n",
        "numpy_array = np.array(python_list)\n",
        "\n",
        "#Convert our list into pandas dataframe\n",
        "pandas_dataframe = pd.DataFrame(python_list)"
      ],
      "metadata": {
        "id": "kM7KOXv__JY-"
      },
      "execution_count": null,
      "outputs": []
    },
    {
      "cell_type": "code",
      "source": [
        "print(f'This is a Numpy array: \\n{numpy_array}')\n",
        "print(f'This is a Pandas DataFrame: \\n{pandas_dataframe}')"
      ],
      "metadata": {
        "id": "FEVSHvSw5sp9"
      },
      "execution_count": null,
      "outputs": []
    },
    {
      "cell_type": "markdown",
      "source": [
        "It is generally important to know the format in which you are storing your data, since this will effect how various operations performed on them are conducted.\n",
        "\n",
        "For example, lists cannot perform direct mathematical operations, whereas numpy arrays and pandas dataframes can. "
      ],
      "metadata": {
        "id": "qlx5OvgG8pvF"
      }
    },
    {
      "cell_type": "code",
      "source": [
        "print(f\"Pandas dataframe elementwise addition: \\n{pandas_dataframe+3}\")\n",
        "\n",
        "print(f\"Numpy array elementwise addition: \\n{numpy_array+3}\")"
      ],
      "metadata": {
        "id": "QImfy2Vk9bCr"
      },
      "execution_count": null,
      "outputs": []
    },
    {
      "cell_type": "code",
      "source": [
        "print(f\"List elementwise addition: \\n{python_list+3}\")"
      ],
      "metadata": {
        "id": "N_FKK3aJCN_B"
      },
      "execution_count": null,
      "outputs": []
    },
    {
      "cell_type": "markdown",
      "source": [
        "## Data Exploration\n",
        "\n",
        "In this tutorial session, we will be analysing a tabular dataset consisting of a variety of different clinical variables. The goal will be to use these clinical variables to build a model that can diagnose the patient with heart disease. Let's download our dataset and have a look at it. "
      ],
      "metadata": {
        "id": "ImaSpvHf8wDI"
      }
    },
    {
      "cell_type": "code",
      "source": [
        "#We can download GitHub repositories directly to our drive using the following command\n",
        "!git clone https://github.com/JakeKendrick1/Machine_Learning_EPSM.git"
      ],
      "metadata": {
        "id": "JB7u7k1E33fR"
      },
      "execution_count": null,
      "outputs": []
    },
    {
      "cell_type": "code",
      "source": [
        "data_dir = '/content/Machine_Learning_EPSM/heart_data_EPSM.csv' #get filepath\n",
        "data_df = pd.read_csv(data_dir) #open csv using pandas\n",
        "data_df #visualize dataframe"
      ],
      "metadata": {
        "id": "_0N5ydRv38YM"
      },
      "execution_count": null,
      "outputs": []
    },
    {
      "cell_type": "markdown",
      "source": [
        "So we have imported the data into a pandas dataframe. As you can see, this is essentially a 2D spreadsheet-like structure that is very useful for storing tabular data. It is capable of storing many different types of data, including floats, integers, and strings. "
      ],
      "metadata": {
        "id": "8HRSSXjU68Kz"
      }
    },
    {
      "cell_type": "markdown",
      "source": [
        "**About the Dataset**\n",
        "\n",
        "1. age - age in years\n",
        "\n",
        "2. sex - sex (1 = male; 0 = female)\n",
        "\n",
        "3. cp - chest pain type (1 = typical angina; 2 = atypical angina; 3 = non-anginal pain; 0 = asymptomatic)\n",
        "\n",
        "4. trtbps - resting blood pressure (in mm Hg on admission to the hospital)\n",
        "\n",
        "5. chol - serum cholestoral in mg/dl\n",
        "\n",
        "6. fbs - fasting blood sugar > 120 mg/dl (1 = true; 0 = false)\n",
        "\n",
        "7. restecg - resting electrocardiographic results (1 = normal; 2 = having ST-T wave abnormality; 0 = hypertrophy)\n",
        "\n",
        "8. thalachh - maximum heart rate achieved\n",
        "\n",
        "9. exng - exercise induced angina (1 = yes; 0 = no)\n",
        "\n",
        "10. oldpeak - ST depression induced by exercise relative to rest\n",
        "\n",
        "11. slp - the slope of the peak exercise ST segment (2 = upsloping; 1 = flat; 0 = downsloping)\n",
        "\n",
        "12. caa - number of major vessels (0-3) colored by flouroscopy\n",
        "\n",
        "13. thall - 2 = normal; 1 = fixed defect; 3 = reversable defect\n",
        "\n",
        "14. output - coronary artery diameter narrowing measured on angiogram - This is what we are trying to predict (Value 0 = < 50% diameter narrowing; Value 1 = > 50% diameter narrowing). \n",
        "\n",
        "\n",
        "So, we have 13 columns corresponding to features that we can use to build our predictive model, and one column pertaining to what we are trying to predict. Our target variable is essentially a risk classification for that particular patient - a value of 1 corresponds to a patient at high risk of heart attack, and a value of 0 corresponds to a patient at lower risk of heart attack. \n",
        "\n",
        "If you want to know more about this dataset, you can see the associated paper [here](https://www.ncbi.nlm.nih.gov/pmc/articles/PMC4468223/)."
      ],
      "metadata": {
        "id": "0szcriWj4Trh"
      }
    },
    {
      "cell_type": "code",
      "source": [
        "#Quick data overview.\n",
        "data_df.info()"
      ],
      "metadata": {
        "id": "HLYiZL_k4EdR"
      },
      "execution_count": null,
      "outputs": []
    },
    {
      "cell_type": "code",
      "source": [
        "#We have nans\n",
        "print(data_df.isnull().sum())"
      ],
      "metadata": {
        "id": "5cSqp0JY4cVc"
      },
      "execution_count": null,
      "outputs": []
    },
    {
      "cell_type": "markdown",
      "source": [
        "## Data Cleaning"
      ],
      "metadata": {
        "id": "pfIzn3rGY1fA"
      }
    },
    {
      "cell_type": "markdown",
      "source": [
        "When analysing real world datasets, the data that you have may be incomplete. However, most trainable machine learning models require numerical data for each instance. Before undertaking any training, we must identify any missing values and replace them in a process called **imputing**. Several techniques exist for handling missing data:\n",
        "* Removing entire instances where data is missing\n",
        "* Univariate imputation: use single feature dimension to estimate missing value. Can use mean, median, mode, constant\n",
        "* multivariate imputation: use all data to estimate missing values. Missing values are estimated using ancillary model which uses all other features to predict missing values\n",
        "\n",
        "The key thing to remember, as with almost everything in machine learning, we don't know in advance which of these methods will produce the best results. "
      ],
      "metadata": {
        "id": "QoL658ZoJ7yq"
      }
    },
    {
      "cell_type": "code",
      "source": [
        "#Let's have a look and see if we are missing any target variables in our dataset.\n",
        "idx_na = np.where(data_df['output'].isna())[0]\n",
        "for i in idx_na:\n",
        "  print(f'Data instance {i} is missing a target variable.')"
      ],
      "metadata": {
        "id": "PxNfAJQS4rnc"
      },
      "execution_count": null,
      "outputs": []
    },
    {
      "cell_type": "markdown",
      "source": [
        "What do we do with these cases where we are missing the outcome variable? Can we simply replace it with the mean or median? In this instance, imputing is not a good strategy. Since we are attempting to predict the outcome variable, and if by chance we impute the wrong value this could have a detrimental effect on our model performance. It is safer in this case, since there is only two instances for which we are missing information, to remove these patients from the dataset."
      ],
      "metadata": {
        "id": "1e95YDbgwGDy"
      }
    },
    {
      "cell_type": "code",
      "source": [
        "data_df = data_df.drop(axis=0, index=idx_na)\n",
        "data_df = data_df.reset_index(drop=True)"
      ],
      "metadata": {
        "id": "k6IgboxW4wxC"
      },
      "execution_count": null,
      "outputs": []
    },
    {
      "cell_type": "code",
      "source": [
        "data_df.info()"
      ],
      "metadata": {
        "id": "GCtTO7jY41hz"
      },
      "execution_count": null,
      "outputs": []
    },
    {
      "cell_type": "markdown",
      "source": [
        "As we can see, two patients have been removed from out data, but we no longer have missing values for out output"
      ],
      "metadata": {
        "id": "OVutC5K1RaOf"
      }
    },
    {
      "cell_type": "code",
      "source": [
        "len(data_df)"
      ],
      "metadata": {
        "id": "R-CuObjz_GQI"
      },
      "execution_count": null,
      "outputs": []
    },
    {
      "cell_type": "markdown",
      "source": [
        "Now let's separate our outcomes and predictive features in order to apply imputation methods on missing data:"
      ],
      "metadata": {
        "id": "KV95lRoiRTLX"
      }
    },
    {
      "cell_type": "code",
      "source": [
        "#separate output (y) from training data (x).\n",
        "feats = data_df.drop(axis=1,labels=['output'])\n",
        "diagnosis = data_df['output']"
      ],
      "metadata": {
        "id": "2ku96_9243M0"
      },
      "execution_count": null,
      "outputs": []
    },
    {
      "cell_type": "code",
      "source": [
        "#checking where nan occurs for 'chol' feature\n",
        "idx_na_chol = np.where(feats['chol'].isna())[0]\n",
        "print(idx_na_chol)"
      ],
      "metadata": {
        "id": "MZpuC-jw5EHY"
      },
      "execution_count": null,
      "outputs": []
    },
    {
      "cell_type": "code",
      "source": [
        "print('sanity check instance 11: '+str(feats['chol'][11]))\n",
        "print('sanity check instance 12: '+str(feats['chol'][12]))"
      ],
      "metadata": {
        "id": "3N9JOg4I5WEA"
      },
      "execution_count": null,
      "outputs": []
    },
    {
      "cell_type": "code",
      "source": [
        "#Univariate data imputer: replace missing values with column mean\n",
        "from sklearn.impute import SimpleImputer\n",
        "imputer_univariate = SimpleImputer(missing_values=np.nan, strategy='mean')\n",
        "df_imputed_uni = imputer_univariate.fit_transform(feats)"
      ],
      "metadata": {
        "id": "RMUg1ceQ5izF"
      },
      "execution_count": null,
      "outputs": []
    },
    {
      "cell_type": "code",
      "source": [
        "type(df_imputed_uni)"
      ],
      "metadata": {
        "id": "sbBVUvQyXUDJ"
      },
      "execution_count": null,
      "outputs": []
    },
    {
      "cell_type": "markdown",
      "source": [
        "Notice that this imputer function does not return a pandas dataframe, but instead returns a numpy array. It is important to keep track of the format in which your data is being stored. You can check this using the 'type' function. We'll need to convert this back to a pandas dataframe later."
      ],
      "metadata": {
        "id": "8RXq7vBpXlgC"
      }
    },
    {
      "cell_type": "code",
      "source": [
        "#checking to see if imputer replaced nan. \n",
        "print('sanity check instance 11: '+str(df_imputed_uni[11,4]))\n",
        "print('sanity check: imputed instance: '+str(df_imputed_uni[12,4]))"
      ],
      "metadata": {
        "id": "_rJN2MA45oyq"
      },
      "execution_count": null,
      "outputs": []
    },
    {
      "cell_type": "markdown",
      "source": [
        "**Task 1**\n",
        "\n",
        "1. Replace the missing data using the univariate imputer, except this time using the *median* instead of the mean. Don't forget to assign it to a new variable!\n",
        "2. Print out the imputed value using the examples above as a guide.\n",
        "* Hint: Check the SimpleImputer function [documentation](https://scikit-learn.org/stable/modules/generated/sklearn.impute.SimpleImputer.html) if you're having trouble."
      ],
      "metadata": {
        "id": "ywaePU59T90u"
      }
    },
    {
      "cell_type": "code",
      "source": [
        "#Median univariate imputer\n",
        "\n"
      ],
      "metadata": {
        "id": "b-SZTCKTT-rm"
      },
      "execution_count": null,
      "outputs": []
    },
    {
      "cell_type": "markdown",
      "source": [
        "There are also other more complicated methods for imputing missing data, such as multivariate imputation. Here, missing values are predicted based on their relationship to the other variables."
      ],
      "metadata": {
        "id": "wFSHqPgrU_5_"
      }
    },
    {
      "cell_type": "code",
      "source": [
        "#Multivariate data imputer: replace missing vlaues with estimated values\n",
        "from sklearn.experimental import enable_iterative_imputer \n",
        "from sklearn.impute import IterativeImputer\n",
        "imputer_multivariate = IterativeImputer(missing_values=np.nan, initial_strategy='mean')\n",
        "df_imputed_multi = imputer_multivariate.fit_transform(feats)"
      ],
      "metadata": {
        "id": "iL82zQsI542u"
      },
      "execution_count": null,
      "outputs": []
    },
    {
      "cell_type": "code",
      "source": [
        "#checking to see if imputer replaced nan\n",
        "print('sanity check instance 11: '+str(df_imputed_multi[11,4]))\n",
        "print('sanity check imputed instance: '+str(df_imputed_multi[12,4]))"
      ],
      "metadata": {
        "id": "Ao27BsUh6BJY"
      },
      "execution_count": null,
      "outputs": []
    },
    {
      "cell_type": "markdown",
      "source": [
        "In summary, there are a myriad of different ways in which you can deal with missing data, each resulting in a different imputed data value. \n",
        "\n",
        "Next, we convert our imputed variables, which are stored in a numpy array, back into a pandas dataframe:"
      ],
      "metadata": {
        "id": "p5h6xtaSZkxR"
      }
    },
    {
      "cell_type": "code",
      "source": [
        "#Getting cleaned features back into dataframe for feature selection\n",
        "feats_cleaned = pd.DataFrame(df_imputed_multi,columns=list(feats))\n",
        "feats_cleaned"
      ],
      "metadata": {
        "id": "cl2gJQr76GAi"
      },
      "execution_count": null,
      "outputs": []
    },
    {
      "cell_type": "code",
      "source": [
        "print(feats_cleaned.isnull().sum())"
      ],
      "metadata": {
        "id": "UgpELgtSaFLs"
      },
      "execution_count": null,
      "outputs": []
    },
    {
      "cell_type": "markdown",
      "source": [
        "After our quick data cleaning process, we now have no more missing values in our dataset. We've removed the rows where there is no target variable, and have replaced missing values in the feature columns using a multivariate imputing method."
      ],
      "metadata": {
        "id": "k7CHh8A4aY39"
      }
    },
    {
      "cell_type": "markdown",
      "source": [
        "Using Pandas, it is trivially easy to calculate summary statistics on each of the columns in our tabular dataset. "
      ],
      "metadata": {
        "id": "Vy-85KUpomVV"
      }
    },
    {
      "cell_type": "code",
      "source": [
        "#Summarise feature statistics:\n",
        "feats_cleaned.describe().transpose()"
      ],
      "metadata": {
        "id": "ETsCs5kU9EiH"
      },
      "execution_count": null,
      "outputs": []
    },
    {
      "cell_type": "markdown",
      "source": [
        "**Types of Features**\n",
        "\n",
        "* As we can see from our tabulated summary statistics, some of our features are *continuous variables*, and some are *categorical variables*. \n",
        "* If our categorical variables are not *ordinal* (ordered by severity), our model will interpret higher values as higher real-world values. \n",
        "* The 'sex' feature is a perfect example of this, where a higher value (1 = Male) does not correspond to a higher real-world value. \n",
        "* The model will interpret this as the 1 value having greater significance than the 0 value, even though this is untrue."
      ],
      "metadata": {
        "id": "IFUsMNFLpphZ"
      }
    },
    {
      "cell_type": "markdown",
      "source": [
        "We can counter this by [one-hot encoding](https://machinelearningmastery.com/why-one-hot-encode-data-in-machine-learning/) all of our categorical variables. This process creates a new binary feature for each possible value of the categorical variable, and assigns a 1 to the new feature that corresponds with the old category for each data point. 'Sex' will therefore be split into two new features, one for males and one for females.\n",
        "* One-hot-encoding could also be used if the Sex column contained text, i.e. 'Male' for males and 'Female' for females."
      ],
      "metadata": {
        "id": "xlNqS7h3sCUw"
      }
    },
    {
      "cell_type": "code",
      "source": [
        "#Lists of categorical and continuous variables\n",
        "cat_cols = ['sex','exng','caa','cp','fbs','restecg','slp','thall']\n",
        "con_cols = [\"age\",\"trtbps\",\"chol\",\"thalachh\",\"oldpeak\"]"
      ],
      "metadata": {
        "id": "wallYwvR9i1t"
      },
      "execution_count": null,
      "outputs": []
    },
    {
      "cell_type": "code",
      "source": [
        "#One-hot encoding the categorical variables using in built pandas function\n",
        "feats_cleaned = pd.get_dummies(feats_cleaned, columns = cat_cols, drop_first = False)"
      ],
      "metadata": {
        "id": "AER_ybs59x71"
      },
      "execution_count": null,
      "outputs": []
    },
    {
      "cell_type": "code",
      "source": [
        "feats_cleaned.describe().transpose()"
      ],
      "metadata": {
        "id": "gjDo6ruk-ecU"
      },
      "execution_count": null,
      "outputs": []
    },
    {
      "cell_type": "markdown",
      "source": [
        "## Feature Selection\n",
        "\n",
        "It is very common when training ML models to undergo a process of feature selection. There are a few reasons we might want to not use all the features in our dataset:\n",
        "\n",
        "1. Redundancy: Features that are highly correlated with each other are unlikely to provide useful additional information to the model\n",
        "2. Non-descriptive: Some features won't have a good relationship with the target variable.\n",
        "3. Dimensionality Reduction: The more features you have in your predictive model, the higher the chance of overfitting. \n",
        "\n",
        "\n",
        "Lets first visualise the correlation between features using a handy function to display the diagonal correlation matrix:"
      ],
      "metadata": {
        "id": "YRbrd_g2siqM"
      }
    },
    {
      "cell_type": "code",
      "source": [
        "#Calculating the correlation between all of our features\n",
        "import seaborn as sn\n",
        "import matplotlib.pyplot as plt\n",
        "\n",
        "corrMatrix = feats_cleaned.corr() #computes Pearson Correlation coefficients\n",
        "plt.figure(figsize=(25,25))\n",
        "sn.heatmap(corrMatrix, annot=True, cmap = 'bwr')"
      ],
      "metadata": {
        "id": "LIqN8g3AxqgV"
      },
      "execution_count": null,
      "outputs": []
    },
    {
      "cell_type": "markdown",
      "source": [
        "We note that most features are uncorrelated (~0), with most correlated features being one-hot-encoded variables of the original feature, suggesting there are minimal redundant features in our data"
      ],
      "metadata": {
        "id": "WDS9lReLW-ln"
      }
    },
    {
      "cell_type": "markdown",
      "source": [
        "**Feature Selection: ANOVA-F Value**\n",
        "\n",
        "There are many ways in which features can be selected. One method is to compare the mean and variance of each of our features for the two possible target variable outcomes. If a feature has a similar mean and variance for both target outcomes, then it is unlikely to discriminate between the two very well. We can rank features based on this criteria using the ANOVA f-value, and choose the top 'k' features we want to use. "
      ],
      "metadata": {
        "id": "rdwnfoYGWP5y"
      }
    },
    {
      "cell_type": "code",
      "source": [
        "#Feature selection based on ANOVA f-value\n",
        "\n",
        "NUM_FEATURES_CHOSEN = 5 #Modify the top number of features to use.\n",
        "\n",
        "from sklearn.feature_selection import GenericUnivariateSelect, f_classif\n",
        "transformer = GenericUnivariateSelect(f_classif, mode='k_best', param = NUM_FEATURES_CHOSEN)\n",
        "feats_cleaned_reduced = transformer.fit(feats_cleaned, diagnosis)"
      ],
      "metadata": {
        "id": "Ioy53ovp6Xyr"
      },
      "execution_count": null,
      "outputs": []
    },
    {
      "cell_type": "code",
      "source": [
        "#Displaying Selected Features\n",
        "features_selected = feats_cleaned_reduced.get_support(indices = True)\n",
        "feat_names = []\n",
        "for feature_index in features_selected:\n",
        "    feat_names.append(list(feats_cleaned)[feature_index])\n",
        "\n",
        "print(feat_names)"
      ],
      "metadata": {
        "id": "7zUXs9lvqQXA"
      },
      "execution_count": null,
      "outputs": []
    },
    {
      "cell_type": "markdown",
      "source": [
        "Interestingly, in the original article [1] that introduced this dataset, 3/5 of the most predictive features were found to agree with the above (exang, caa, thall).\n",
        "\n",
        "[1] https://www.ncbi.nlm.nih.gov/pmc/articles/PMC4468223/"
      ],
      "metadata": {
        "id": "iC0MBP9bY979"
      }
    },
    {
      "cell_type": "code",
      "source": [
        "#Transforming our data into just the selected features\n",
        "feats_cleaned_reduced = transformer.fit_transform(feats_cleaned, diagnosis)"
      ],
      "metadata": {
        "id": "Yuxfn2Eoq5c0"
      },
      "execution_count": null,
      "outputs": []
    },
    {
      "cell_type": "markdown",
      "source": [
        "This is one of the ways in which the feature space can be reduced. As always, experimentation with many different types is advisable. A general rule of thumb is that you should have at least **10 training samples for every feature in your predictive model** to minimise the chances of overfitting."
      ],
      "metadata": {
        "id": "QYv6xPqU6yuJ"
      }
    },
    {
      "cell_type": "code",
      "source": [
        "#Checking if data is balanced:\n",
        "diagnosis.value_counts()"
      ],
      "metadata": {
        "id": "PSu8YvqvM08w"
      },
      "execution_count": null,
      "outputs": []
    },
    {
      "cell_type": "markdown",
      "source": [
        "Checking the class ratios of our target variable is important, as it can affect drastically how we interpret the results of the model. The Accuracy metric can be misleading for a dataset with large class imbalance.\n",
        "\n",
        "Splitting our data in preparation for training. We use a 80:20 training-to-testing set split"
      ],
      "metadata": {
        "id": "bOcNukaTXP8c"
      }
    },
    {
      "cell_type": "code",
      "source": [
        "#Split our data into training and testing sets\n",
        "\n",
        "TEST_SIZE = 0.20\n",
        "\n",
        "from sklearn.model_selection import train_test_split\n",
        "X_train, X_test, y_train, y_test = train_test_split(feats_cleaned_reduced, diagnosis, test_size = TEST_SIZE, random_state=10)\n",
        "print('train features: '+str(X_train.shape))\n",
        "print('train targets: '+str(y_train.shape))\n",
        "print('test features: '+str(X_test.shape))\n",
        "print('test targets: '+str(y_test.shape))\n",
        "y_train = list(y_train)\n",
        "y_test = list(y_test)"
      ],
      "metadata": {
        "id": "wt0HlEcV6q5c"
      },
      "execution_count": null,
      "outputs": []
    },
    {
      "cell_type": "markdown",
      "source": [
        "## Data Normalisation"
      ],
      "metadata": {
        "id": "fBaeH03QYWDy"
      }
    },
    {
      "cell_type": "markdown",
      "source": [
        "Normalising feature values before training ML models is important, as it reduces model bias towards large absolute features and generally improves model stability. First, we will normalise our data to be between a range of 0 and 1 using MinMaxScaler. We do this using only the training data, and then use the statistics calculated for the training data on the testing set. We assume that the data distribution of the training set approximates that which it will be tested and used on in the real world, hence we use training statistics on our testing set. "
      ],
      "metadata": {
        "id": "AjL7mwwAa3c8"
      }
    },
    {
      "cell_type": "code",
      "source": [
        "#MinMax Scaler\n",
        "from sklearn.preprocessing import MinMaxScaler\n",
        "scaler_minmax = MinMaxScaler()\n",
        "scaler_minmax.fit(X_train)\n",
        "X_train_scaled_minmax = scaler_minmax.transform(X_train)\n",
        "X_test_scaled_minmax = scaler_minmax.transform(X_test) #using statistics of training data to scale testing data"
      ],
      "metadata": {
        "id": "-BTdTV1KuXpC"
      },
      "execution_count": null,
      "outputs": []
    },
    {
      "cell_type": "markdown",
      "source": [
        "**Task 2 (5 Minutes)**\n",
        "\n",
        "1. Import the sklearn StandardScaler (hint: see the [documentation](https://scikit-learn.org/stable/modules/generated/sklearn.preprocessing.StandardScaler.html)!)\n",
        "2. Standardise the training and testing data using this StandardScaler, with the help of the example above. The variable names have been provided to you below."
      ],
      "metadata": {
        "id": "tvoncmTHvJT1"
      }
    },
    {
      "cell_type": "code",
      "source": [
        "\n",
        "\n",
        "X_train_scaled = \n",
        "X_test_scaled = "
      ],
      "metadata": {
        "id": "cladbicg7oqr"
      },
      "execution_count": null,
      "outputs": []
    },
    {
      "cell_type": "markdown",
      "source": [
        "## Model Training and Evaluation"
      ],
      "metadata": {
        "id": "LvuYOPLInpLc"
      }
    },
    {
      "cell_type": "markdown",
      "source": [
        "Having created a standardised set of features with associated outputs, we are now ready to begin training some ML models. We will implement a few different types of models, namely:\n",
        "\n",
        "* Logistic regression\n",
        "* Support vector machine\n",
        "* Decision Tree\n",
        "* Gradient boosting Classifier\n",
        "\n",
        "We will then evaluate them using some standard classification metrics.\n",
        "\n",
        "Below we have implemented some convenient functions that we can re-use as we are trying out different models in this process. They will also help you in your final task!"
      ],
      "metadata": {
        "id": "JdxRioAwclfV"
      }
    },
    {
      "cell_type": "code",
      "source": [
        "#Importing models and testing metrics\n",
        "from sklearn import svm\n",
        "from sklearn.metrics import accuracy_score, roc_auc_score, confusion_matrix, ConfusionMatrixDisplay, roc_curve\n",
        "from sklearn.linear_model import LogisticRegression\n",
        "\n",
        "\n",
        "#Function to rapidly train and evaluate trained models.\n",
        "def train_model(model, train_x, train_y, test_x, test_y):\n",
        "  model.fit(train_x, train_y) #performs training\n",
        "  model_pred_training = model.predict(train_x) #model prediction on training data\n",
        "  model_pred_testing = model.predict(test_x) #model prediction on testing data\n",
        "  model_pred_testing_proba = model.predict_proba(test_x)[:, 1] #extracting probabilities for each testing instance\n",
        "  model_acc_train = accuracy_score(model_pred_training, train_y) #computing accuracy for training data\n",
        "  model_acc_test = accuracy_score(model_pred_testing, test_y) #computing accuracy for testing data\n",
        "  model_auc = roc_auc_score(test_y, model_pred_testing_proba) #computing AUC for testing data\n",
        "  return model_acc_train, model_acc_test, model_auc, model_pred_testing_proba, model_pred_testing\n",
        "\n",
        "def roc_auc_curve (predicted_probabilities, y_test, title = str):\n",
        "  \n",
        "  '''\n",
        "  Function will plot the receiver operater charactistic curve for a given\n",
        "  set of model predictions.\n",
        "\n",
        "  Inputs:\n",
        "      predicted_probabilities (array): Model predicted probabilities\n",
        "      y_test (array): Ground truth classifications.\n",
        "      title (str): Title of the plot\n",
        "  '''\n",
        "\n",
        "  fpr, tpr, _ = roc_curve(y_test,  predicted_probabilities)\n",
        "  plt.figure()\n",
        "  lw = 2\n",
        "  plt.step(\n",
        "    fpr,\n",
        "    tpr,\n",
        "    color=\"darkorange\",\n",
        "    lw=lw,\n",
        "    label=\"ROC curve (area = %0.3f)\" % auc,\n",
        "  )\n",
        "  plt.plot([0, 1], [0, 1], color=\"navy\", lw=lw, linestyle=\"--\")\n",
        "  plt.xlim([-0.01, 1.0])\n",
        "  plt.ylim([0.0, 1.05])\n",
        "  plt.xlabel(\"False Positive Rate\")\n",
        "  plt.ylabel(\"True Positive Rate\")\n",
        "  plt.title(title)\n",
        "  plt.legend(loc=\"lower right\")\n",
        "  plt.show()"
      ],
      "metadata": {
        "id": "_vezGsSZngXI"
      },
      "execution_count": null,
      "outputs": []
    },
    {
      "cell_type": "markdown",
      "source": [
        "**Logistic Regression**\n",
        "\n"
      ],
      "metadata": {
        "id": "-w68-QRseUoy"
      }
    },
    {
      "cell_type": "code",
      "source": [
        "model = LogisticRegression()\n",
        "acc_train, acc_test, auc, prediction_proba, predictions = train_model(model, X_train_scaled, y_train, X_test_scaled, y_test)\n",
        "print(f'Training Accuracy: {acc_train:.3f}, Testing Accuracy: {acc_test:.3f}')\n",
        "print(f'Testing AUC Value: {auc:.3f}')"
      ],
      "metadata": {
        "id": "uqiU1EZ5eUGG"
      },
      "execution_count": null,
      "outputs": []
    },
    {
      "cell_type": "markdown",
      "source": [
        "We can also display a confusion matrix to assess for which classes the model makes incorrect predictions. In this example, the most clinically significant case is the false negative case, where the model predicts a low risk when in fact the patient of high risk (bottom left quadrant)"
      ],
      "metadata": {
        "id": "0MtLTb55fatl"
      }
    },
    {
      "cell_type": "code",
      "source": [
        "#Confusion Matrix\n",
        "cm = confusion_matrix(y_test, predictions)\n",
        "disp = ConfusionMatrixDisplay(confusion_matrix=cm, display_labels = ['Low Risk', 'High Risk'])\n",
        "disp.plot()\n",
        "plt.grid(False)\n",
        "plt.show()"
      ],
      "metadata": {
        "id": "hOy-OXksfVLx"
      },
      "execution_count": null,
      "outputs": []
    },
    {
      "cell_type": "markdown",
      "source": [
        "**ROC Curves**\n",
        "\n",
        "The Receiver Operating Characteristic (ROC) curve is a very common and robust metric that tests the discriminatory power of our model at various thresholds. Our model outputs an associated probability between 0 and 1 for a given prediction to be the positive or negative class. By default, the threshold is set at 0.5 to assign a class. However, the ROC tests the ability of our model to discriminate between the two classes across all thresholds. This allows a more thorough characterisation of a models separability between classes. \n",
        "\n",
        "![image.png](data:image/png;base64,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)\n",
        "\n",
        "It is a substantially better metric than accuracy for the following reasons:\n",
        "* It is more robust to class imbalances.\n",
        "* It gives us information on how the model predicts the positive and negative classes. This could be of substantial clinical value.\n",
        "* Accuracy is calculated at only one threshold (defaults to 0.5), ROC curves are threshold invariant."
      ],
      "metadata": {
        "id": "SJ_BkwDufjwx"
      }
    },
    {
      "cell_type": "code",
      "source": [
        "#AUC Plot\n",
        "roc_auc_curve(prediction_proba, y_test, 'Logistic Regression ROC')"
      ],
      "metadata": {
        "id": "UImSPp2jdzKY"
      },
      "execution_count": null,
      "outputs": []
    },
    {
      "cell_type": "markdown",
      "source": [
        "The x axis is defined as the FPR, y axis TPR\n",
        "\n",
        "\n",
        "![image.png](data:image/png;base64,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)"
      ],
      "metadata": {
        "id": "ooj4kirN1Xjj"
      }
    },
    {
      "cell_type": "markdown",
      "source": [
        "**Support Vector Machine**"
      ],
      "metadata": {
        "id": "47m-4Wlzc2SM"
      }
    },
    {
      "cell_type": "code",
      "source": [
        "model = svm.SVC(kernel='linear', probability=True)\n",
        "acc_train, acc_test, auc, prediction_proba, predictions = train_model(model, \n",
        "                                                                      X_train_scaled, y_train, X_test_scaled, y_test)\n",
        "print(f'Training Accuracy: {acc_train:.3f}, Testing Accuracy: {acc_test:.3f}')\n",
        "print(f'Testing AUC Value: {auc:.3f}')"
      ],
      "metadata": {
        "id": "RjhyEGZZpcKD"
      },
      "execution_count": null,
      "outputs": []
    },
    {
      "cell_type": "code",
      "source": [
        "#AUC Curve\n",
        "roc_auc_curve(prediction_proba, y_test, 'SVM ROC')"
      ],
      "metadata": {
        "id": "G4MhpGaxeora"
      },
      "execution_count": null,
      "outputs": []
    },
    {
      "cell_type": "code",
      "source": [
        "#Confusion Matrix\n",
        "cm = confusion_matrix(y_test, predictions)\n",
        "disp = ConfusionMatrixDisplay(confusion_matrix=cm, display_labels = ['Low Risk', 'High Risk'])\n",
        "disp.plot()\n",
        "plt.grid(False)\n",
        "plt.show()"
      ],
      "metadata": {
        "id": "TtgTpj_Hkcug"
      },
      "execution_count": null,
      "outputs": []
    },
    {
      "cell_type": "markdown",
      "source": [
        "**Task 3 (10 Minutes)**\n",
        " \n",
        "1. Train a Decision Tree model on our data. Check the [documentation](https://scikit-learn.org/stable/modules/generated/sklearn.tree.DecisionTreeClassifier.html). \n",
        "2. Plot the ROC curve for this model on the testing data.\n",
        "3. If you have time, try changing some of the hyperparameters of the model!\n",
        "\n",
        "Use the helper functions and examples above to guide you through this."
      ],
      "metadata": {
        "id": "V_DYN-kMgC2h"
      }
    },
    {
      "cell_type": "code",
      "source": [
        "#Decision tree model\n",
        "\n"
      ],
      "metadata": {
        "id": "Ge9IVkrpjSuJ"
      },
      "execution_count": null,
      "outputs": []
    },
    {
      "cell_type": "markdown",
      "source": [
        "**Gradient Boosting Classifier**\n",
        "\n",
        "As you may have seen above, some ML models have multiple different hyperparameters that you can specify. Almost always, the default parameters will not yield the best model. Thus, we can specify a multitude of them and search the hyperparameter space for the best combination. "
      ],
      "metadata": {
        "id": "9ZoaEfjEd8dp"
      }
    },
    {
      "cell_type": "code",
      "source": [
        "#implementing grid search for XGboost model:\n",
        "from sklearn.ensemble import GradientBoostingClassifier as GBC\n",
        "#defining hyperparameter grid search parameters\n",
        "loss = ['deviance', 'exponential'] #hyperparameter search\n",
        "max_depth = [i for i in range(1, 50, 10)] #hyperparameter search\n",
        "min_impurity_decrease = [i for i in range(0,50, 10)] #hyperparameter search\n",
        "min_samples_leaf = [i for i in range(1,50,10)] #hyperparameter search\n",
        "\n",
        "list_loss = []\n",
        "list_max_depth = []\n",
        "list_min_impurity_decrease = []\n",
        "list_min_samples_leaf = []\n",
        "list_test_acc = []\n",
        "list_auc = []\n",
        "list_preds = []\n",
        "\n",
        "for i in loss:\n",
        "  for j in max_depth:\n",
        "    for k in min_impurity_decrease:\n",
        "      for z in min_samples_leaf:\n",
        "        model_xgb = GBC(loss = i, max_depth = j, min_impurity_decrease = k, min_samples_leaf = z, random_state=20) #describe random state\n",
        "        acc_train, acc_test, auc, predictions_proba, predictions = train_model(model_xgb, X_train_scaled, y_train, X_test_scaled, y_test)\n",
        "        list_loss.append(i)\n",
        "        list_max_depth.append(j)\n",
        "        list_min_impurity_decrease.append(k)\n",
        "        list_min_samples_leaf.append(z)\n",
        "        list_test_acc.append(acc_test)\n",
        "        list_auc.append(auc)\n",
        "        list_preds.append(predictions)"
      ],
      "metadata": {
        "id": "mRr_hZQGtpba"
      },
      "execution_count": null,
      "outputs": []
    },
    {
      "cell_type": "code",
      "source": [
        "print(f'Best AUC value achieved during the hyperparameter search = {np.max(list_auc):.3f}')"
      ],
      "metadata": {
        "id": "AM9q3X2W0Tnl"
      },
      "execution_count": null,
      "outputs": []
    },
    {
      "cell_type": "code",
      "source": [
        "#Extracting the index of the best model from our list of saved metrics.\n",
        "index = np.where(list_auc==np.max(list_auc))[0][0]\n",
        "\n",
        "print(f'Hyperparameter set {index} had the best AUC')"
      ],
      "metadata": {
        "id": "tZhyElSM7KKX"
      },
      "execution_count": null,
      "outputs": []
    },
    {
      "cell_type": "code",
      "source": [
        "#Extracting best hyperparameters of best model\n",
        "print(f'Best hyperparameters: \\n Loss = {list_loss[index]}\\n Max Depth = {list_max_depth[index]}')\n",
        "print(f' Min Impurity Decrease = {list_min_impurity_decrease[index]}\\n Min Samples Leaf = {list_min_samples_leaf[index]}')   "
      ],
      "metadata": {
        "id": "IheRsKU08g9x"
      },
      "execution_count": null,
      "outputs": []
    },
    {
      "cell_type": "markdown",
      "source": [
        "In cases where there are many hyperparameters to choose from, it is often useful to search a number of them to see if they generate a better model. In almost all cases, it will be impossible to know which ones in advance will prove to be the best! This example showed one way that you can do this, through a series of for loops."
      ],
      "metadata": {
        "id": "r98mLvnIHesu"
      }
    },
    {
      "cell_type": "markdown",
      "source": [
        "## Summary\n",
        "In this workshop, we have learned about:\n",
        "1. Type and function of common Python data containers.\n",
        "\n",
        "2. How to import tabular data into python and examine its characteristics.\n",
        "3. How to apply univariate and multivariate data Imputation techniques to fill missing values.\n",
        "4. How and why to apply one-hot-encoding for categorical features.\n",
        "5. Feature selection: creating and interpreting a correlation matrix; applying ANOVA-F feature selection method.\n",
        "6. Data normalization techniques: MinMax and Standardisation.\n",
        "7. Training models: Logistic regression, Support-Vector-Machine, Decision Tree, XGBoost.\n",
        "8. Calculation and importance of AUC, ROC curves, confusion matrices, and pitfalls of accuracy as a performance metric. \n",
        "9. How and why to perform grid search over hyperparameter space. \n",
        "\n",
        "If you have any questions or would like to get in touch with the workshop hosts, please email:\n",
        "\n",
        " jake.kendrick@research.uwa.edu.au and branimir.rusanov@research.uwa.edu.au"
      ],
      "metadata": {
        "id": "iuYS2luSdrU2"
      }
    },
    {
      "cell_type": "markdown",
      "source": [
        "## Task Solutions"
      ],
      "metadata": {
        "id": "ZEdE9krViGv4"
      }
    },
    {
      "cell_type": "markdown",
      "source": [
        "### Task 1"
      ],
      "metadata": {
        "id": "r-mNdbmxiP1C"
      }
    },
    {
      "cell_type": "code",
      "source": [
        "imputer_univariate_median = SimpleImputer(missing_values=np.nan, strategy='median')\n",
        "df_imputed_uni_median = imputer_univariate_median.fit_transform(feats)\n",
        "\n",
        "#Checking one of the replaced values\n",
        "print('sanity check instance 11: '+str(df_imputed_uni_median[11,4]))\n",
        "print('sanity check: imputed instance: '+str(df_imputed_uni_median[12,4]))"
      ],
      "metadata": {
        "id": "H_RsLdX14g9C"
      },
      "execution_count": null,
      "outputs": []
    },
    {
      "cell_type": "markdown",
      "source": [
        "### Task 2"
      ],
      "metadata": {
        "id": "YUeRIK3nufjp"
      }
    },
    {
      "cell_type": "code",
      "source": [
        "#Standardising our training and testing data. \n",
        "from sklearn.preprocessing import StandardScaler\n",
        "scaler = StandardScaler()\n",
        "scaler.fit(X_train)\n",
        "X_train_scaled = scaler.transform(X_train)\n",
        "X_test_scaled = scaler.transform(X_test)"
      ],
      "metadata": {
        "id": "bCYiuom6ugz4"
      },
      "execution_count": null,
      "outputs": []
    },
    {
      "cell_type": "markdown",
      "source": [
        "### Task 3"
      ],
      "metadata": {
        "id": "kDuFs6i9i1Zx"
      }
    },
    {
      "cell_type": "code",
      "source": [
        "from sklearn.tree import DecisionTreeClassifier\n",
        "\n",
        "model = DecisionTreeClassifier()\n",
        "acc_train, acc_test, auc, prediction_proba, predictions = train_model(model, \n",
        "                                                                      X_train_scaled, y_train, X_test_scaled, y_test)\n",
        "print(f'Training Accuracy: {acc_train:.3f}, Testing Accuracy: {acc_test:.3f}')\n",
        "print(f'Testing AUC Value: {auc:.3f}')"
      ],
      "metadata": {
        "id": "AQ2YbRWKxnYu"
      },
      "execution_count": null,
      "outputs": []
    },
    {
      "cell_type": "code",
      "source": [
        "#AUC Curve\n",
        "roc_auc_curve(prediction_proba, y_test, 'Decision Tree ROC')"
      ],
      "metadata": {
        "id": "vJIZ2LeOi3iX"
      },
      "execution_count": null,
      "outputs": []
    },
    {
      "cell_type": "code",
      "source": [
        "cm = confusion_matrix(y_test, predictions)\n",
        "disp = ConfusionMatrixDisplay(confusion_matrix=cm, display_labels = ['Low Risk', 'High Risk'])\n",
        "disp.plot()\n",
        "plt.grid(False)\n",
        "plt.show()"
      ],
      "metadata": {
        "id": "f1Fq2kGyi9vu"
      },
      "execution_count": null,
      "outputs": []
    }
  ]
}